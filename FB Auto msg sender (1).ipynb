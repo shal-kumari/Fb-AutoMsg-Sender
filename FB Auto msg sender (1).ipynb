{
 "cells": [
  {
   "cell_type": "code",
   "execution_count": null,
   "metadata": {},
   "outputs": [],
   "source": [
    "from selenium import webdriver\n",
    "from selenium.webdriver.common.action_chains import ActionChains\n",
    "from selenium.webdriver.common.keys import Keys\n",
    "import time\n",
    "\n",
    "i = 50\n",
    "while i:\n",
    "    i-=1\n",
    "\n",
    "driver = webdriver.Chrome(executable_path = '/Users/Hp/Downloads/chromedriver')\n",
    "driver.maximize_window()\n",
    "driver.get('https://www.facebook.com/')\n",
    "actions=ActionChains(driver)\n",
    "i = 500000\n",
    "while i:\n",
    "    i-=1\n",
    "email = driver.find_element_by_id('email')\n",
    "email.send_keys('abc@abc.com')\n",
    "i = 500000\n",
    "while i:\n",
    "    i-=1\n",
    "password = driver.find_element_by_id('pass')\n",
    "password.send_keys('xxx')\n",
    "password.submit()\n",
    "\n",
    "i = 50000000\n",
    "while i:\n",
    "    i-=1\n",
    "    \n",
    "user = 'xyz123'\n",
    "driver.get('https://www.facebook.com/messages/t/' + user)\n",
    "\n",
    "i = 5000000\n",
    "while i:\n",
    "    i-=1\n",
    "    \n",
    "iframe = driver.find_elements_by_tag_name('iframe')[0]\n",
    "driver.switch_to.frame(iframe)\n",
    "i = 5000000\n",
    "while i:\n",
    "    i-=1\n",
    "driver.switch_to.active_element.send_keys(\"Hello .. this is a message sent by bot\")\n",
    "actions.send_keys(Keys.ENTER).perform()"
   ]
  }
 ],
 "metadata": {
  "kernelspec": {
   "display_name": "Python 3",
   "language": "python",
   "name": "python3"
  },
  "language_info": {
   "codemirror_mode": {
    "name": "ipython",
    "version": 3
   },
   "file_extension": ".py",
   "mimetype": "text/x-python",
   "name": "python",
   "nbconvert_exporter": "python",
   "pygments_lexer": "ipython3",
   "version": "3.7.6"
  }
 },
 "nbformat": 4,
 "nbformat_minor": 4
}
